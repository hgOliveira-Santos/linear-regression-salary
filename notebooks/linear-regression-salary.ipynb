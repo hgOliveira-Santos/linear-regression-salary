{
 "cells": [
  {
   "cell_type": "markdown",
   "id": "12369376-4503-4b14-9161-91579f70a4cb",
   "metadata": {},
   "source": [
    "# Regressão Linear: Relação entre Experiência e Salário\n",
    "\n",
    "Uma análise simples e direta sobre como os anos de experiência impactam o salário, com base em dados disponíveis. \n",
    "Este notebook implementa um modelo de regressão linear para prever salários a partir da experiência profissional.\n"
   ]
  },
  {
   "cell_type": "markdown",
   "id": "ef20e9db-5cf0-41da-829e-2cf4cd4f9732",
   "metadata": {},
   "source": [
    "## Introdução\n",
    "\n",
    "O objetivo deste projeto é explorar a relação entre **anos de experiência** e **salário** usando um modelo de regressão linear. \n",
    "\n",
    "Apesar de ser um modelo básico, ele ainda é útil para capturar tendências gerais e entender como variáveis quantitativas se correlacionam — ou não.\n"
   ]
  },
  {
   "cell_type": "code",
   "execution_count": null,
   "id": "152a75ec",
   "metadata": {},
   "outputs": [],
   "source": [
    "# Carregando as bibliotecas necessárias\n",
    "import pandas as pd\n",
    "import numpy as np\n",
    "import matplotlib.pyplot as plt\n",
    "from sklearn.linear_model import LinearRegression"
   ]
  },
  {
   "cell_type": "code",
   "execution_count": null,
   "id": "dabd257d-9060-47a3-ba77-d09e68ebb03c",
   "metadata": {},
   "outputs": [],
   "source": [
    "# Carregando os dados \n",
    "df = pd.read_csv('Salary_dataset.csv')\n",
    "\n",
    "# Visualizando os dados \n",
    "df.head(10)\n",
    "df.columns\n",
    "df.shape"
   ]
  },
  {
   "cell_type": "markdown",
   "id": "3699bca1",
   "metadata": {},
   "source": [
    "Percebe-se a existência de uma coluna denominada `Unnamed: 0`, que foi gerada automaticamente como índice.\n",
    "\n",
    "Em razão de essa coluna não possuir valor analítico, deve-se removê-la. "
   ]
  },
  {
   "cell_type": "code",
   "execution_count": null,
   "id": "7283c3fd-55e7-4187-aed6-c73c3e37cc34",
   "metadata": {},
   "outputs": [],
   "source": [
    "# Removendo a coluna 'Unnamed: 0'\n",
    "df = df.drop('Unnamed: 0', axis = 1)\n",
    "df.head(10)"
   ]
  },
  {
   "cell_type": "markdown",
   "id": "907f36ab",
   "metadata": {},
   "source": [
    "## Carregamento e preparação dos dados\n",
    "\n",
    "O dataset foi carregado e as colunas desnecessárias foram removidas. \n",
    "\n",
    "A estrutura dos dados é simples: `YearsExperience` (anos de experiência) e `Salary` (salário em doláres por ano).\n"
   ]
  },
  {
   "cell_type": "markdown",
   "id": "b57d956b",
   "metadata": {},
   "source": [
    "## Análise Exploratória\n",
    "\n",
    "Nesta etapa, observa-se visualmente a relação entre os anos de experiência e o salário, além de verificar a correlação estatística entre as variáveis usando a matriz de correlação de Pearson.\n"
   ]
  },
  {
   "cell_type": "code",
   "execution_count": null,
   "id": "bd6badfe",
   "metadata": {},
   "outputs": [],
   "source": [
    "# Observando a dispersão dos dados\n",
    "plt.scatter(x = df['YearsExperience'], y = df['Salary'])\n",
    "plt.title('')\n",
    "plt.xlabel('Anos de Experiência')\n",
    "plt.ylabel('Salário (em doláres por ano)')\n",
    "plt.show()"
   ]
  },
  {
   "cell_type": "markdown",
   "id": "66048e87",
   "metadata": {},
   "source": [
    "O gráfico gerado demonstra uma forte tendência linear positiva, indicando que, à medida que os anos de experiência aumentam, os salários também crescem de forma proporcional — sugerindo uma correlação alta entre as duas variáveis."
   ]
  },
  {
   "cell_type": "code",
   "execution_count": null,
   "id": "47aeb08e",
   "metadata": {},
   "outputs": [],
   "source": [
    "# Matriz de correlação de Pearson\n",
    "df.corr()"
   ]
  },
  {
   "cell_type": "markdown",
   "id": "9e9ac1a3",
   "metadata": {},
   "source": [
    "A matriz de correlação revela uma correlação de 0.978 entre YearsExperience e Salary, o que indica uma relação linear forte e positiva: à medida que a experiência aumenta, o salário tende a aumentar quase na mesma proporção. O valor próximo de 1 reforça o que foi observado visualmente no gráfico de dispersão."
   ]
  },
  {
   "cell_type": "markdown",
   "id": "fe986b10",
   "metadata": {},
   "source": [
    "### Observado assimetrias e outliers com boxplot"
   ]
  },
  {
   "cell_type": "code",
   "execution_count": null,
   "id": "e2a2d9d9",
   "metadata": {},
   "outputs": [],
   "source": [
    "# Anos de experiência\n",
    "plt.figure(figsize=(6, 6))\n",
    "plt.boxplot(df['YearsExperience'], patch_artist=True, \n",
    "            boxprops=dict(facecolor='lightblue'),\n",
    "            medianprops=dict(color='red', linewidth=2))\n",
    "plt.ylabel(\"Anos de Experiência\")\n",
    "plt.yticks(range(1, 11, 1))\n",
    "plt.show()"
   ]
  },
  {
   "cell_type": "markdown",
   "id": "458b724c",
   "metadata": {},
   "source": [
    "O boxplot acima mostra a distribuição dos anos de experiência dos indivíduos na amostra. A mediana está em torno de 5 anos, o que indica que metade dos profissionais possui até esse tempo de atuação. O primeiro quartil (Q1) está próximo de 3 anos, enquanto o terceiro quartil (Q3) está por volta de 8 anos, resultando em um intervalo interquartil (IQR) de aproximadamente 5 anos. Isso evidencia uma dispersão moderada no nível de experiência entre os profissionais."
   ]
  },
  {
   "cell_type": "code",
   "execution_count": null,
   "id": "951a384f",
   "metadata": {},
   "outputs": [],
   "source": [
    "# Salários\n",
    "plt.figure(figsize=(6, 6))\n",
    "plt.boxplot(df['Salary'], patch_artist=True, \n",
    "            boxprops=dict(facecolor='blue'),\n",
    "            medianprops=dict(color='orange', linewidth=2))\n",
    "plt.ylabel(\"Salários\")\n",
    "plt.xlabel(\"Distribuição de Salários\")\n",
    "plt.yticks(range(40000, 120001, 10000))\n",
    "plt.show()"
   ]
  },
  {
   "cell_type": "markdown",
   "id": "ca1d8f2b",
   "metadata": {},
   "source": [
    "O boxplot apresentado exibe a distribuição dos salários em uma determinada amostra. Observa-se que a mediana salarial gira em torno de R$ 65.000, indicando que metade dos indivíduos recebe até esse valor. O primeiro quartil (Q1) está próximo de R$ 55.000, o que significa que 25% das pessoas ganham abaixo desse patamar, enquanto o terceiro quartil (Q3) está em torno de R$ 100.000, revelando que 75% ganham até esse limite. A amplitude interquartil (IQR), que mede a dispersão entre Q1 e Q3, é de aproximadamente R$ 45.000, indicando grande variabilidade nos salários dessa faixa intermediária. Os valores mínimo e máximo, estimados em cerca de R$ 38.000 e R$ 122.000, respectivamente, estão dentro dos limites do boxplot, sugerindo que não há outliers visíveis. "
   ]
  }
 ],
 "metadata": {
  "kernelspec": {
   "display_name": "Python [conda env:base] *",
   "language": "python",
   "name": "conda-base-py"
  },
  "language_info": {
   "codemirror_mode": {
    "name": "ipython",
    "version": 3
   },
   "file_extension": ".py",
   "mimetype": "text/x-python",
   "name": "python",
   "nbconvert_exporter": "python",
   "pygments_lexer": "ipython3",
   "version": "3.12.7"
  }
 },
 "nbformat": 4,
 "nbformat_minor": 5
}
