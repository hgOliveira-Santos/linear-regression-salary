{
 "cells": [
  {
   "cell_type": "markdown",
   "id": "c636b9e6-242a-44ab-b41f-44c3265e2e1b",
   "metadata": {},
   "source": [
    "# Regressão Linear: Relação entre Experiência e Salário\n",
    "\n",
    "Uma análise simples e direta sobre como os anos de experiência impactam o salário, com base em dados disponíveis. \n",
    "Este notebook implementa um modelo de regressão linear para prever salários a partir da experiência profissional."
   ]
  },
  {
   "cell_type": "markdown",
   "id": "ef20e9db-5cf0-41da-829e-2cf4cd4f9732",
   "metadata": {},
   "source": [
    "## Introdução\n",
    "\n",
    "O objetivo deste projeto é explorar a relação entre **anos de experiência** e **salário** usando um modelo de regressão linear. \n",
    "\n",
    "Apesar de ser um modelo básico, ele ainda é útil para capturar tendências gerais e entender como variáveis quantitativas se correlacionam — ou não.\n"
   ]
  },
  {
   "cell_type": "code",
   "execution_count": 3,
   "id": "152a75ec",
   "metadata": {},
   "outputs": [],
   "source": [
    "# Carregando as bibliotecas necessárias\n",
    "import pandas as pd\n",
    "import numpy as np\n",
    "import matplotlib.pyplot as plt\n",
    "from sklearn.linear_model import LinearRegression"
   ]
  },
  {
   "cell_type": "code",
   "execution_count": 5,
   "id": "dabd257d-9060-47a3-ba77-d09e68ebb03c",
   "metadata": {},
   "outputs": [
    {
     "ename": "FileNotFoundError",
     "evalue": "[Errno 2] No such file or directory: 'Salary_dataset.csv'",
     "output_type": "error",
     "traceback": [
      "\u001b[1;31m---------------------------------------------------------------------------\u001b[0m",
      "\u001b[1;31mFileNotFoundError\u001b[0m                         Traceback (most recent call last)",
      "Cell \u001b[1;32mIn[5], line 2\u001b[0m\n\u001b[0;32m      1\u001b[0m \u001b[38;5;66;03m# Carregando os dados \u001b[39;00m\n\u001b[1;32m----> 2\u001b[0m df \u001b[38;5;241m=\u001b[39m pd\u001b[38;5;241m.\u001b[39mread_csv(\u001b[38;5;124m'\u001b[39m\u001b[38;5;124mSalary_dataset.csv\u001b[39m\u001b[38;5;124m'\u001b[39m)\n\u001b[0;32m      4\u001b[0m \u001b[38;5;66;03m# Visualizando os dados \u001b[39;00m\n\u001b[0;32m      5\u001b[0m df\u001b[38;5;241m.\u001b[39mhead(\u001b[38;5;241m10\u001b[39m)\n",
      "File \u001b[1;32m~\\anaconda3\\Lib\\site-packages\\pandas\\io\\parsers\\readers.py:1026\u001b[0m, in \u001b[0;36mread_csv\u001b[1;34m(filepath_or_buffer, sep, delimiter, header, names, index_col, usecols, dtype, engine, converters, true_values, false_values, skipinitialspace, skiprows, skipfooter, nrows, na_values, keep_default_na, na_filter, verbose, skip_blank_lines, parse_dates, infer_datetime_format, keep_date_col, date_parser, date_format, dayfirst, cache_dates, iterator, chunksize, compression, thousands, decimal, lineterminator, quotechar, quoting, doublequote, escapechar, comment, encoding, encoding_errors, dialect, on_bad_lines, delim_whitespace, low_memory, memory_map, float_precision, storage_options, dtype_backend)\u001b[0m\n\u001b[0;32m   1013\u001b[0m kwds_defaults \u001b[38;5;241m=\u001b[39m _refine_defaults_read(\n\u001b[0;32m   1014\u001b[0m     dialect,\n\u001b[0;32m   1015\u001b[0m     delimiter,\n\u001b[1;32m   (...)\u001b[0m\n\u001b[0;32m   1022\u001b[0m     dtype_backend\u001b[38;5;241m=\u001b[39mdtype_backend,\n\u001b[0;32m   1023\u001b[0m )\n\u001b[0;32m   1024\u001b[0m kwds\u001b[38;5;241m.\u001b[39mupdate(kwds_defaults)\n\u001b[1;32m-> 1026\u001b[0m \u001b[38;5;28;01mreturn\u001b[39;00m _read(filepath_or_buffer, kwds)\n",
      "File \u001b[1;32m~\\anaconda3\\Lib\\site-packages\\pandas\\io\\parsers\\readers.py:620\u001b[0m, in \u001b[0;36m_read\u001b[1;34m(filepath_or_buffer, kwds)\u001b[0m\n\u001b[0;32m    617\u001b[0m _validate_names(kwds\u001b[38;5;241m.\u001b[39mget(\u001b[38;5;124m\"\u001b[39m\u001b[38;5;124mnames\u001b[39m\u001b[38;5;124m\"\u001b[39m, \u001b[38;5;28;01mNone\u001b[39;00m))\n\u001b[0;32m    619\u001b[0m \u001b[38;5;66;03m# Create the parser.\u001b[39;00m\n\u001b[1;32m--> 620\u001b[0m parser \u001b[38;5;241m=\u001b[39m TextFileReader(filepath_or_buffer, \u001b[38;5;241m*\u001b[39m\u001b[38;5;241m*\u001b[39mkwds)\n\u001b[0;32m    622\u001b[0m \u001b[38;5;28;01mif\u001b[39;00m chunksize \u001b[38;5;129;01mor\u001b[39;00m iterator:\n\u001b[0;32m    623\u001b[0m     \u001b[38;5;28;01mreturn\u001b[39;00m parser\n",
      "File \u001b[1;32m~\\anaconda3\\Lib\\site-packages\\pandas\\io\\parsers\\readers.py:1620\u001b[0m, in \u001b[0;36mTextFileReader.__init__\u001b[1;34m(self, f, engine, **kwds)\u001b[0m\n\u001b[0;32m   1617\u001b[0m     \u001b[38;5;28mself\u001b[39m\u001b[38;5;241m.\u001b[39moptions[\u001b[38;5;124m\"\u001b[39m\u001b[38;5;124mhas_index_names\u001b[39m\u001b[38;5;124m\"\u001b[39m] \u001b[38;5;241m=\u001b[39m kwds[\u001b[38;5;124m\"\u001b[39m\u001b[38;5;124mhas_index_names\u001b[39m\u001b[38;5;124m\"\u001b[39m]\n\u001b[0;32m   1619\u001b[0m \u001b[38;5;28mself\u001b[39m\u001b[38;5;241m.\u001b[39mhandles: IOHandles \u001b[38;5;241m|\u001b[39m \u001b[38;5;28;01mNone\u001b[39;00m \u001b[38;5;241m=\u001b[39m \u001b[38;5;28;01mNone\u001b[39;00m\n\u001b[1;32m-> 1620\u001b[0m \u001b[38;5;28mself\u001b[39m\u001b[38;5;241m.\u001b[39m_engine \u001b[38;5;241m=\u001b[39m \u001b[38;5;28mself\u001b[39m\u001b[38;5;241m.\u001b[39m_make_engine(f, \u001b[38;5;28mself\u001b[39m\u001b[38;5;241m.\u001b[39mengine)\n",
      "File \u001b[1;32m~\\anaconda3\\Lib\\site-packages\\pandas\\io\\parsers\\readers.py:1880\u001b[0m, in \u001b[0;36mTextFileReader._make_engine\u001b[1;34m(self, f, engine)\u001b[0m\n\u001b[0;32m   1878\u001b[0m     \u001b[38;5;28;01mif\u001b[39;00m \u001b[38;5;124m\"\u001b[39m\u001b[38;5;124mb\u001b[39m\u001b[38;5;124m\"\u001b[39m \u001b[38;5;129;01mnot\u001b[39;00m \u001b[38;5;129;01min\u001b[39;00m mode:\n\u001b[0;32m   1879\u001b[0m         mode \u001b[38;5;241m+\u001b[39m\u001b[38;5;241m=\u001b[39m \u001b[38;5;124m\"\u001b[39m\u001b[38;5;124mb\u001b[39m\u001b[38;5;124m\"\u001b[39m\n\u001b[1;32m-> 1880\u001b[0m \u001b[38;5;28mself\u001b[39m\u001b[38;5;241m.\u001b[39mhandles \u001b[38;5;241m=\u001b[39m get_handle(\n\u001b[0;32m   1881\u001b[0m     f,\n\u001b[0;32m   1882\u001b[0m     mode,\n\u001b[0;32m   1883\u001b[0m     encoding\u001b[38;5;241m=\u001b[39m\u001b[38;5;28mself\u001b[39m\u001b[38;5;241m.\u001b[39moptions\u001b[38;5;241m.\u001b[39mget(\u001b[38;5;124m\"\u001b[39m\u001b[38;5;124mencoding\u001b[39m\u001b[38;5;124m\"\u001b[39m, \u001b[38;5;28;01mNone\u001b[39;00m),\n\u001b[0;32m   1884\u001b[0m     compression\u001b[38;5;241m=\u001b[39m\u001b[38;5;28mself\u001b[39m\u001b[38;5;241m.\u001b[39moptions\u001b[38;5;241m.\u001b[39mget(\u001b[38;5;124m\"\u001b[39m\u001b[38;5;124mcompression\u001b[39m\u001b[38;5;124m\"\u001b[39m, \u001b[38;5;28;01mNone\u001b[39;00m),\n\u001b[0;32m   1885\u001b[0m     memory_map\u001b[38;5;241m=\u001b[39m\u001b[38;5;28mself\u001b[39m\u001b[38;5;241m.\u001b[39moptions\u001b[38;5;241m.\u001b[39mget(\u001b[38;5;124m\"\u001b[39m\u001b[38;5;124mmemory_map\u001b[39m\u001b[38;5;124m\"\u001b[39m, \u001b[38;5;28;01mFalse\u001b[39;00m),\n\u001b[0;32m   1886\u001b[0m     is_text\u001b[38;5;241m=\u001b[39mis_text,\n\u001b[0;32m   1887\u001b[0m     errors\u001b[38;5;241m=\u001b[39m\u001b[38;5;28mself\u001b[39m\u001b[38;5;241m.\u001b[39moptions\u001b[38;5;241m.\u001b[39mget(\u001b[38;5;124m\"\u001b[39m\u001b[38;5;124mencoding_errors\u001b[39m\u001b[38;5;124m\"\u001b[39m, \u001b[38;5;124m\"\u001b[39m\u001b[38;5;124mstrict\u001b[39m\u001b[38;5;124m\"\u001b[39m),\n\u001b[0;32m   1888\u001b[0m     storage_options\u001b[38;5;241m=\u001b[39m\u001b[38;5;28mself\u001b[39m\u001b[38;5;241m.\u001b[39moptions\u001b[38;5;241m.\u001b[39mget(\u001b[38;5;124m\"\u001b[39m\u001b[38;5;124mstorage_options\u001b[39m\u001b[38;5;124m\"\u001b[39m, \u001b[38;5;28;01mNone\u001b[39;00m),\n\u001b[0;32m   1889\u001b[0m )\n\u001b[0;32m   1890\u001b[0m \u001b[38;5;28;01massert\u001b[39;00m \u001b[38;5;28mself\u001b[39m\u001b[38;5;241m.\u001b[39mhandles \u001b[38;5;129;01mis\u001b[39;00m \u001b[38;5;129;01mnot\u001b[39;00m \u001b[38;5;28;01mNone\u001b[39;00m\n\u001b[0;32m   1891\u001b[0m f \u001b[38;5;241m=\u001b[39m \u001b[38;5;28mself\u001b[39m\u001b[38;5;241m.\u001b[39mhandles\u001b[38;5;241m.\u001b[39mhandle\n",
      "File \u001b[1;32m~\\anaconda3\\Lib\\site-packages\\pandas\\io\\common.py:873\u001b[0m, in \u001b[0;36mget_handle\u001b[1;34m(path_or_buf, mode, encoding, compression, memory_map, is_text, errors, storage_options)\u001b[0m\n\u001b[0;32m    868\u001b[0m \u001b[38;5;28;01melif\u001b[39;00m \u001b[38;5;28misinstance\u001b[39m(handle, \u001b[38;5;28mstr\u001b[39m):\n\u001b[0;32m    869\u001b[0m     \u001b[38;5;66;03m# Check whether the filename is to be opened in binary mode.\u001b[39;00m\n\u001b[0;32m    870\u001b[0m     \u001b[38;5;66;03m# Binary mode does not support 'encoding' and 'newline'.\u001b[39;00m\n\u001b[0;32m    871\u001b[0m     \u001b[38;5;28;01mif\u001b[39;00m ioargs\u001b[38;5;241m.\u001b[39mencoding \u001b[38;5;129;01mand\u001b[39;00m \u001b[38;5;124m\"\u001b[39m\u001b[38;5;124mb\u001b[39m\u001b[38;5;124m\"\u001b[39m \u001b[38;5;129;01mnot\u001b[39;00m \u001b[38;5;129;01min\u001b[39;00m ioargs\u001b[38;5;241m.\u001b[39mmode:\n\u001b[0;32m    872\u001b[0m         \u001b[38;5;66;03m# Encoding\u001b[39;00m\n\u001b[1;32m--> 873\u001b[0m         handle \u001b[38;5;241m=\u001b[39m \u001b[38;5;28mopen\u001b[39m(\n\u001b[0;32m    874\u001b[0m             handle,\n\u001b[0;32m    875\u001b[0m             ioargs\u001b[38;5;241m.\u001b[39mmode,\n\u001b[0;32m    876\u001b[0m             encoding\u001b[38;5;241m=\u001b[39mioargs\u001b[38;5;241m.\u001b[39mencoding,\n\u001b[0;32m    877\u001b[0m             errors\u001b[38;5;241m=\u001b[39merrors,\n\u001b[0;32m    878\u001b[0m             newline\u001b[38;5;241m=\u001b[39m\u001b[38;5;124m\"\u001b[39m\u001b[38;5;124m\"\u001b[39m,\n\u001b[0;32m    879\u001b[0m         )\n\u001b[0;32m    880\u001b[0m     \u001b[38;5;28;01melse\u001b[39;00m:\n\u001b[0;32m    881\u001b[0m         \u001b[38;5;66;03m# Binary mode\u001b[39;00m\n\u001b[0;32m    882\u001b[0m         handle \u001b[38;5;241m=\u001b[39m \u001b[38;5;28mopen\u001b[39m(handle, ioargs\u001b[38;5;241m.\u001b[39mmode)\n",
      "\u001b[1;31mFileNotFoundError\u001b[0m: [Errno 2] No such file or directory: 'Salary_dataset.csv'"
     ]
    }
   ],
   "source": [
    "# Carregando os dados \n",
    "df = pd.read_csv('Salary_dataset.csv')\n",
    "\n",
    "# Visualizando os dados \n",
    "df.head(10)\n",
    "df.columns\n",
    "df.shape"
   ]
  },
  {
   "cell_type": "markdown",
   "id": "3699bca1",
   "metadata": {},
   "source": [
    "Percebe-se a existência de uma coluna denominada `Unnamed: 0`, que foi gerada automaticamente como índice.\n",
    "\n",
    "Em razão de essa coluna não possuir valor analítico, deve-se removê-la. "
   ]
  },
  {
   "cell_type": "code",
   "execution_count": null,
   "id": "7283c3fd-55e7-4187-aed6-c73c3e37cc34",
   "metadata": {},
   "outputs": [],
   "source": [
    "# Removendo a coluna 'Unnamed: 0'\n",
    "df = df.drop('Unnamed: 0', axis = 1)\n",
    "df.head(10)"
   ]
  },
  {
   "cell_type": "markdown",
   "id": "907f36ab",
   "metadata": {},
   "source": [
    "## Carregamento e preparação dos dados\n",
    "\n",
    "O dataset foi carregado e as colunas desnecessárias foram removidas. \n",
    "\n",
    "A estrutura dos dados é simples: `YearsExperience` (anos de experiência) e `Salary` (salário em doláres por ano).\n"
   ]
  },
  {
   "cell_type": "markdown",
   "id": "b57d956b",
   "metadata": {},
   "source": [
    "## Análise Exploratória\n",
    "\n",
    "Nesta etapa, observa-se visualmente a relação entre os anos de experiência e o salário, além de verificar a correlação estatística entre as variáveis usando a matriz de correlação de Pearson.\n"
   ]
  },
  {
   "cell_type": "code",
   "execution_count": null,
   "id": "bd6badfe",
   "metadata": {},
   "outputs": [],
   "source": [
    "# Observando a dispersão dos dados\n",
    "plt.scatter(x = df['YearsExperience'], y = df['Salary'])\n",
    "plt.title('')\n",
    "plt.xlabel('Anos de Experiência')\n",
    "plt.ylabel('Salário (em doláres por ano)')\n",
    "plt.show()"
   ]
  },
  {
   "cell_type": "markdown",
   "id": "66048e87",
   "metadata": {},
   "source": [
    "O gráfico gerado demonstra uma forte tendência linear positiva, indicando que, à medida que os anos de experiência aumentam, os salários também crescem de forma proporcional — sugerindo uma correlação alta entre as duas variáveis."
   ]
  },
  {
   "cell_type": "code",
   "execution_count": null,
   "id": "47aeb08e",
   "metadata": {},
   "outputs": [],
   "source": [
    "# Matriz de correlação de Pearson\n",
    "df.corr()"
   ]
  },
  {
   "cell_type": "markdown",
   "id": "9e9ac1a3",
   "metadata": {},
   "source": [
    "A matriz de correlação revela uma correlação de 0.978 entre YearsExperience e Salary, o que indica uma relação linear forte e positiva: à medida que a experiência aumenta, o salário tende a aumentar quase na mesma proporção. O valor próximo de 1 reforça o que foi observado visualmente no gráfico de dispersão."
   ]
  },
  {
   "cell_type": "markdown",
   "id": "fe986b10",
   "metadata": {},
   "source": [
    "### Observado assimetrias e outliers com boxplot"
   ]
  },
  {
   "cell_type": "code",
   "execution_count": null,
   "id": "e2a2d9d9",
   "metadata": {},
   "outputs": [],
   "source": [
    "# Anos de experiência\n",
    "plt.figure(figsize=(6, 6))\n",
    "plt.boxplot(df['YearsExperience'], patch_artist=True, \n",
    "            boxprops=dict(facecolor='lightblue'),\n",
    "            medianprops=dict(color='red', linewidth=2))\n",
    "plt.ylabel(\"Anos de Experiência\")\n",
    "plt.yticks(range(1, 11, 1))\n",
    "plt.show()"
   ]
  },
  {
   "cell_type": "markdown",
   "id": "458b724c",
   "metadata": {},
   "source": [
    "O boxplot acima mostra a distribuição dos anos de experiência dos indivíduos na amostra. A mediana está em torno de 5 anos, o que indica que metade dos profissionais possui até esse tempo de atuação. O primeiro quartil (Q1) está próximo de 3 anos, enquanto o terceiro quartil (Q3) está por volta de 8 anos, resultando em um intervalo interquartil (IQR) de aproximadamente 5 anos. Isso evidencia uma dispersão moderada no nível de experiência entre os profissionais."
   ]
  },
  {
   "cell_type": "code",
   "execution_count": null,
   "id": "951a384f",
   "metadata": {},
   "outputs": [],
   "source": [
    "# Salários\n",
    "plt.figure(figsize=(6, 6))\n",
    "plt.boxplot(df['Salary'], patch_artist=True, \n",
    "            boxprops=dict(facecolor='blue'),\n",
    "            medianprops=dict(color='orange', linewidth=2))\n",
    "plt.ylabel(\"Salários\")\n",
    "plt.xlabel(\"Distribuição de Salários\")\n",
    "plt.yticks(range(40000, 120001, 10000))\n",
    "plt.show()"
   ]
  },
  {
   "cell_type": "markdown",
   "id": "ca1d8f2b",
   "metadata": {},
   "source": [
    "O boxplot apresentado exibe a distribuição dos salários em uma determinada amostra. Observa-se que a mediana salarial gira em torno de R$ 65.000, indicando que metade dos indivíduos recebe até esse valor. O primeiro quartil (Q1) está próximo de R$ 55.000, o que significa que 25% das pessoas ganham abaixo desse patamar, enquanto o terceiro quartil (Q3) está em torno de R$ 100.000, revelando que 75% ganham até esse limite. A amplitude interquartil (IQR), que mede a dispersão entre Q1 e Q3, é de aproximadamente R$ 45.000, indicando grande variabilidade nos salários dessa faixa intermediária. Os valores mínimo e máximo, estimados em cerca de R$ 38.000 e R$ 122.000, respectivamente, estão dentro dos limites do boxplot, sugerindo que não há outliers visíveis. "
   ]
  }
 ],
 "metadata": {
  "kernelspec": {
   "display_name": "Python [conda env:base] *",
   "language": "python",
   "name": "conda-base-py"
  },
  "language_info": {
   "codemirror_mode": {
    "name": "ipython",
    "version": 3
   },
   "file_extension": ".py",
   "mimetype": "text/x-python",
   "name": "python",
   "nbconvert_exporter": "python",
   "pygments_lexer": "ipython3",
   "version": "3.12.7"
  }
 },
 "nbformat": 4,
 "nbformat_minor": 5
}
