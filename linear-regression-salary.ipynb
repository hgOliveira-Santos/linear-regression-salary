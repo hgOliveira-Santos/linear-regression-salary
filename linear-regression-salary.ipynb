{
 "cells": [
  {
   "cell_type": "markdown",
   "id": "12369376-4503-4b14-9161-91579f70a4cb",
   "metadata": {},
   "source": [
    "# Regressão Linear: Relação entre Experiência e Salário\n",
    "\n",
    "Uma análise simples e direta sobre como os anos de experiência impactam o salário, com base em dados disponíveis. \n",
    "Este notebook implementa um modelo de regressão linear para prever salários a partir da experiência profissional.\n"
   ]
  },
  {
   "cell_type": "markdown",
   "id": "ef20e9db-5cf0-41da-829e-2cf4cd4f9732",
   "metadata": {},
   "source": [
    "## Introdução\n",
    "\n",
    "O objetivo deste projeto é explorar a relação entre **anos de experiência** e **salário** usando um modelo de regressão linear. \n",
    "\n",
    "Apesar de ser um modelo básico, ele ainda é útil para capturar tendências gerais e entender como variáveis quantitativas se correlacionam — ou não.\n"
   ]
  },
  {
   "cell_type": "code",
   "execution_count": null,
   "id": "152a75ec",
   "metadata": {},
   "outputs": [],
   "source": [
    "# Carregando as bibliotecas necessárias\n",
    "import pandas as pd\n",
    "import numpy as np\n",
    "import matplotlib.pyplot as plt\n",
    "from sklearn.linear_model import LinearRegression"
   ]
  },
  {
   "cell_type": "code",
   "execution_count": null,
   "id": "dabd257d-9060-47a3-ba77-d09e68ebb03c",
   "metadata": {},
   "outputs": [],
   "source": [
    "# Carregando os dados \n",
    "df = pd.read_csv('Salary_dataset.csv')\n",
    "\n",
    "# Visualizando os dados \n",
    "df.head(10)\n",
    "df.columns\n",
    "df.shape"
   ]
  },
  {
   "cell_type": "markdown",
   "id": "3699bca1",
   "metadata": {},
   "source": [
    "Percebe-se a existência de uma coluna denominada `Unnamed: 0`, que foi gerada automaticamente como índice.\n",
    "\n",
    "Em razão de essa coluna não possuir valor analítico, deve-se removê-la. "
   ]
  },
  {
   "cell_type": "code",
   "execution_count": null,
   "id": "7283c3fd-55e7-4187-aed6-c73c3e37cc34",
   "metadata": {},
   "outputs": [],
   "source": [
    "# Removendo a coluna 'Unnamed: 0'\n",
    "df = df.drop('Unnamed: 0', axis = 1)\n",
    "df.head(10)"
   ]
  },
  {
   "cell_type": "markdown",
   "id": "907f36ab",
   "metadata": {},
   "source": [
    "## Carregamento e preparação dos dados\n",
    "\n",
    "O dataset foi carregado e as colunas desnecessárias foram removidas. \n",
    "\n",
    "A estrutura dos dados é simples: `YearsExperience` (anos de experiência) e `Salary` (salário em unidades monetárias não especificadas).\n"
   ]
  }
 ],
 "metadata": {
  "kernelspec": {
   "display_name": "Python [conda env:base] *",
   "language": "python",
   "name": "conda-base-py"
  },
  "language_info": {
   "codemirror_mode": {
    "name": "ipython",
    "version": 3
   },
   "file_extension": ".py",
   "mimetype": "text/x-python",
   "name": "python",
   "nbconvert_exporter": "python",
   "pygments_lexer": "ipython3",
   "version": "3.12.7"
  }
 },
 "nbformat": 4,
 "nbformat_minor": 5
}
