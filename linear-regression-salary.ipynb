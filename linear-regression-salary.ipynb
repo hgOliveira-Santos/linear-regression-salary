{
 "cells": [
  {
   "cell_type": "markdown",
   "id": "3d309a84-47c2-41d8-958c-7d331ad0c2df",
   "metadata": {},
   "source": [
    "# Regressão Linear: Relação entre Experiência e Salário\n",
    "\n",
    "Uma análise simples e direta sobre como os anos de experiência impactam o salário, com base em dados disponíveis. \n",
    "Este notebook implementa um modelo de regressão linear para prever salários a partir da experiência profissional.\n"
   ]
  },
  {
   "cell_type": "markdown",
   "id": "34063636-2187-4c62-a783-9a4c9e1ebb75",
   "metadata": {},
   "source": [
    "## Introdução\n",
    "\n",
    "O objetivo deste projeto é explorar a relação entre **anos de experiência** e **salário** usando um modelo de regressão linear. \n",
    "\n",
    "Apesar de ser um modelo básico, ele ainda é útil para capturar tendências gerais e entender como variáveis quantitativas se correlacionam — ou não."
   ]
  },
  {
   "cell_type": "code",
   "execution_count": 7,
   "id": "b8150574-c66a-47be-af13-efcce46f495e",
   "metadata": {},
   "outputs": [],
   "source": [
    "# Carregando as bibliotecas necessárias\n",
    "import pandas as pd\n",
    "import numpy as np\n",
    "import matplotlib.pyplot as plt\n",
    "from sklearn.linear_model import LinearRegression"
   ]
  },
  {
   "cell_type": "code",
   "execution_count": 12,
   "id": "57b50fda-4b0f-4c73-9420-27f65fc21273",
   "metadata": {},
   "outputs": [],
   "source": [
    "# Carregando os dados \n",
    "df = pd.read_csv('Salary_dataset.csv')"
   ]
  },
  {
   "cell_type": "code",
   "execution_count": 14,
   "id": "4d20b306-a5c2-4eb9-96b3-63cb3b952d76",
   "metadata": {},
   "outputs": [
    {
     "data": {
      "text/html": [
       "<div>\n",
       "<style scoped>\n",
       "    .dataframe tbody tr th:only-of-type {\n",
       "        vertical-align: middle;\n",
       "    }\n",
       "\n",
       "    .dataframe tbody tr th {\n",
       "        vertical-align: top;\n",
       "    }\n",
       "\n",
       "    .dataframe thead th {\n",
       "        text-align: right;\n",
       "    }\n",
       "</style>\n",
       "<table border=\"1\" class=\"dataframe\">\n",
       "  <thead>\n",
       "    <tr style=\"text-align: right;\">\n",
       "      <th></th>\n",
       "      <th>Unnamed: 0</th>\n",
       "      <th>YearsExperience</th>\n",
       "      <th>Salary</th>\n",
       "    </tr>\n",
       "  </thead>\n",
       "  <tbody>\n",
       "    <tr>\n",
       "      <th>0</th>\n",
       "      <td>0</td>\n",
       "      <td>1.2</td>\n",
       "      <td>39344.0</td>\n",
       "    </tr>\n",
       "    <tr>\n",
       "      <th>1</th>\n",
       "      <td>1</td>\n",
       "      <td>1.4</td>\n",
       "      <td>46206.0</td>\n",
       "    </tr>\n",
       "    <tr>\n",
       "      <th>2</th>\n",
       "      <td>2</td>\n",
       "      <td>1.6</td>\n",
       "      <td>37732.0</td>\n",
       "    </tr>\n",
       "    <tr>\n",
       "      <th>3</th>\n",
       "      <td>3</td>\n",
       "      <td>2.1</td>\n",
       "      <td>43526.0</td>\n",
       "    </tr>\n",
       "    <tr>\n",
       "      <th>4</th>\n",
       "      <td>4</td>\n",
       "      <td>2.3</td>\n",
       "      <td>39892.0</td>\n",
       "    </tr>\n",
       "    <tr>\n",
       "      <th>5</th>\n",
       "      <td>5</td>\n",
       "      <td>3.0</td>\n",
       "      <td>56643.0</td>\n",
       "    </tr>\n",
       "    <tr>\n",
       "      <th>6</th>\n",
       "      <td>6</td>\n",
       "      <td>3.1</td>\n",
       "      <td>60151.0</td>\n",
       "    </tr>\n",
       "    <tr>\n",
       "      <th>7</th>\n",
       "      <td>7</td>\n",
       "      <td>3.3</td>\n",
       "      <td>54446.0</td>\n",
       "    </tr>\n",
       "    <tr>\n",
       "      <th>8</th>\n",
       "      <td>8</td>\n",
       "      <td>3.3</td>\n",
       "      <td>64446.0</td>\n",
       "    </tr>\n",
       "    <tr>\n",
       "      <th>9</th>\n",
       "      <td>9</td>\n",
       "      <td>3.8</td>\n",
       "      <td>57190.0</td>\n",
       "    </tr>\n",
       "  </tbody>\n",
       "</table>\n",
       "</div>"
      ],
      "text/plain": [
       "   Unnamed: 0  YearsExperience   Salary\n",
       "0           0              1.2  39344.0\n",
       "1           1              1.4  46206.0\n",
       "2           2              1.6  37732.0\n",
       "3           3              2.1  43526.0\n",
       "4           4              2.3  39892.0\n",
       "5           5              3.0  56643.0\n",
       "6           6              3.1  60151.0\n",
       "7           7              3.3  54446.0\n",
       "8           8              3.3  64446.0\n",
       "9           9              3.8  57190.0"
      ]
     },
     "execution_count": 14,
     "metadata": {},
     "output_type": "execute_result"
    }
   ],
   "source": [
    "# Visualizando os dados \n",
    "df.head(10)"
   ]
  },
  {
   "cell_type": "markdown",
   "id": "4c13da38-902b-4144-b0c1-b9d41142f29b",
   "metadata": {},
   "source": [
    "Percebe-se a existência de uma coluna denominada `Unnamed: 0`, que foi gerada automaticamente como índice.\n",
    "\n",
    "Em razão de essa coluna não possuir valor analítico, deve-se removê-la. "
   ]
  },
  {
   "cell_type": "code",
   "execution_count": 16,
   "id": "9f9f0c83-60b9-49e4-826b-e3215d13e03c",
   "metadata": {},
   "outputs": [
    {
     "data": {
      "text/html": [
       "<div>\n",
       "<style scoped>\n",
       "    .dataframe tbody tr th:only-of-type {\n",
       "        vertical-align: middle;\n",
       "    }\n",
       "\n",
       "    .dataframe tbody tr th {\n",
       "        vertical-align: top;\n",
       "    }\n",
       "\n",
       "    .dataframe thead th {\n",
       "        text-align: right;\n",
       "    }\n",
       "</style>\n",
       "<table border=\"1\" class=\"dataframe\">\n",
       "  <thead>\n",
       "    <tr style=\"text-align: right;\">\n",
       "      <th></th>\n",
       "      <th>YearsExperience</th>\n",
       "      <th>Salary</th>\n",
       "    </tr>\n",
       "  </thead>\n",
       "  <tbody>\n",
       "    <tr>\n",
       "      <th>0</th>\n",
       "      <td>1.2</td>\n",
       "      <td>39344.0</td>\n",
       "    </tr>\n",
       "    <tr>\n",
       "      <th>1</th>\n",
       "      <td>1.4</td>\n",
       "      <td>46206.0</td>\n",
       "    </tr>\n",
       "    <tr>\n",
       "      <th>2</th>\n",
       "      <td>1.6</td>\n",
       "      <td>37732.0</td>\n",
       "    </tr>\n",
       "    <tr>\n",
       "      <th>3</th>\n",
       "      <td>2.1</td>\n",
       "      <td>43526.0</td>\n",
       "    </tr>\n",
       "    <tr>\n",
       "      <th>4</th>\n",
       "      <td>2.3</td>\n",
       "      <td>39892.0</td>\n",
       "    </tr>\n",
       "    <tr>\n",
       "      <th>5</th>\n",
       "      <td>3.0</td>\n",
       "      <td>56643.0</td>\n",
       "    </tr>\n",
       "    <tr>\n",
       "      <th>6</th>\n",
       "      <td>3.1</td>\n",
       "      <td>60151.0</td>\n",
       "    </tr>\n",
       "    <tr>\n",
       "      <th>7</th>\n",
       "      <td>3.3</td>\n",
       "      <td>54446.0</td>\n",
       "    </tr>\n",
       "    <tr>\n",
       "      <th>8</th>\n",
       "      <td>3.3</td>\n",
       "      <td>64446.0</td>\n",
       "    </tr>\n",
       "    <tr>\n",
       "      <th>9</th>\n",
       "      <td>3.8</td>\n",
       "      <td>57190.0</td>\n",
       "    </tr>\n",
       "  </tbody>\n",
       "</table>\n",
       "</div>"
      ],
      "text/plain": [
       "   YearsExperience   Salary\n",
       "0              1.2  39344.0\n",
       "1              1.4  46206.0\n",
       "2              1.6  37732.0\n",
       "3              2.1  43526.0\n",
       "4              2.3  39892.0\n",
       "5              3.0  56643.0\n",
       "6              3.1  60151.0\n",
       "7              3.3  54446.0\n",
       "8              3.3  64446.0\n",
       "9              3.8  57190.0"
      ]
     },
     "execution_count": 16,
     "metadata": {},
     "output_type": "execute_result"
    }
   ],
   "source": [
    "# Removendo a coluna 'Unnamed: 0'\n",
    "df = df.drop('Unnamed: 0', axis = 1)\n",
    "df.head(10)"
   ]
  },
  {
   "cell_type": "markdown",
   "id": "840166b2-ee36-4ecd-820f-1448cd052199",
   "metadata": {},
   "source": [
    "## Carregamento e preparação dos dados\n",
    "\n",
    "O dataset foi carregado e as colunas desnecessárias foram removidas. \n",
    "\n",
    "A estrutura dos dados é simples: `YearsExperience` (anos de experiência) e `Salary` (salário em doláres por ano).\n"
   ]
  },
  {
   "cell_type": "markdown",
   "id": "9ea59dda-1c90-42c5-b9ea-dbcbb5bc3bb6",
   "metadata": {},
   "source": [
    "## Análise Exploratória\n",
    "\n",
    "Nesta etapa, observa-se visualmente a relação entre os anos de experiência e o salário, além de verificar a correlação estatística entre as variáveis usando a matriz de correlação de Pearson.\n"
   ]
  },
  {
   "cell_type": "code",
   "execution_count": 20,
   "id": "4c879140-ed17-4de5-bc42-4cbdbe2eaac1",
   "metadata": {},
   "outputs": [
    {
     "data": {
      "image/png": "[encoded data removed]",
      "text/plain": [
       "<Figure size 640x480 with 1 Axes>"
      ]
     },
     "metadata": {},
     "output_type": "display_data"
    }
   ],
   "source": [
    "# Observando a dispersão dos dados\n",
    "plt.scatter(x = df['YearsExperience'], y = df['Salary'])\n",
    "plt.title('')\n",
    "plt.xlabel('Anos de Experiência')\n",
    "plt.ylabel('Salário (em doláres por ano)')\n",
    "plt.show()"
   ]
  },
  {
   "cell_type": "markdown",
   "id": "4fa06653-c36c-46e4-8bbe-d582464e4909",
   "metadata": {},
   "source": [
    "O gráfico gerado demonstra uma forte tendência linear positiva, indicando que, à medida que os anos de experiência aumentam, os salários também crescem de forma proporcional — sugerindo uma correlação alta entre as duas variáveis."
   ]
  },
  {
   "cell_type": "code",
   "execution_count": 23,
   "id": "50da4f9e-4696-4881-b63f-406d7b7e32e2",
   "metadata": {},
   "outputs": [
    {
     "data": {
      "text/html": [
       "<div>\n",
       "<style scoped>\n",
       "    .dataframe tbody tr th:only-of-type {\n",
       "        vertical-align: middle;\n",
       "    }\n",
       "\n",
       "    .dataframe tbody tr th {\n",
       "        vertical-align: top;\n",
       "    }\n",
       "\n",
       "    .dataframe thead th {\n",
       "        text-align: right;\n",
       "    }\n",
       "</style>\n",
       "<table border=\"1\" class=\"dataframe\">\n",
       "  <thead>\n",
       "    <tr style=\"text-align: right;\">\n",
       "      <th></th>\n",
       "      <th>YearsExperience</th>\n",
       "      <th>Salary</th>\n",
       "    </tr>\n",
       "  </thead>\n",
       "  <tbody>\n",
       "    <tr>\n",
       "      <th>YearsExperience</th>\n",
       "      <td>1.000000</td>\n",
       "      <td>0.978242</td>\n",
       "    </tr>\n",
       "    <tr>\n",
       "      <th>Salary</th>\n",
       "      <td>0.978242</td>\n",
       "      <td>1.000000</td>\n",
       "    </tr>\n",
       "  </tbody>\n",
       "</table>\n",
       "</div>"
      ],
      "text/plain": [
       "                 YearsExperience    Salary\n",
       "YearsExperience         1.000000  0.978242\n",
       "Salary                  0.978242  1.000000"
      ]
     },
     "execution_count": 23,
     "metadata": {},
     "output_type": "execute_result"
    }
   ],
   "source": [
    "# Matriz de correlação de Pearson\n",
    "df.corr()"
   ]
  },
  {
   "cell_type": "markdown",
   "id": "4a0ba3b5-bec7-46a4-b16e-7916521c7b2f",
   "metadata": {},
   "source": [
    "A matriz de correlação revela uma correlação de 0.978 entre YearsExperience e Salary, o que indica uma relação linear forte e positiva: à medida que a experiência aumenta, o salário tende a aumentar quase na mesma proporção. O valor próximo de 1 reforça o que foi observado visualmente no gráfico de dispersão."
   ]
  },
  {
   "cell_type": "markdown",
   "id": "746a973b-0a80-4c60-892b-e73fdb8ca245",
   "metadata": {},
   "source": [
    "### Observado assimetrias e outliers com boxplot"
   ]
  },
  {
   "cell_type": "code",
   "execution_count": 28,
   "id": "ba2521ba-211c-4b33-a0b3-5720c496f018",
   "metadata": {},
   "outputs": [
    {
     "data": {
      "image/png": "[encoded data removed]",
      "text/plain": [
       "<Figure size 600x600 with 1 Axes>"
      ]
     },
     "metadata": {},
     "output_type": "display_data"
    }
   ],
   "source": [
    "# Anos de experiência\n",
    "plt.figure(figsize=(6, 6))\n",
    "plt.boxplot(df['YearsExperience'], patch_artist=True, \n",
    "            boxprops=dict(facecolor='lightblue'),\n",
    "            medianprops=dict(color='red', linewidth=2))\n",
    "plt.ylabel(\"Anos de Experiência\")\n",
    "plt.yticks(range(1, 11, 1))\n",
    "plt.show()"
   ]
  },
  {
   "cell_type": "markdown",
   "id": "6d9b4cfd-ad1a-429a-bcf6-f97f9320eea3",
   "metadata": {},
   "source": [
    "O boxplot acima mostra a distribuição dos anos de experiência dos indivíduos na amostra. A mediana está em torno de 5 anos, o que indica que metade dos profissionais possui até esse tempo de atuação. O primeiro quartil (Q1) está próximo de 3 anos, enquanto o terceiro quartil (Q3) está por volta de 8 anos, resultando em um intervalo interquartil (IQR) de aproximadamente 5 anos. Isso evidencia uma dispersão moderada no nível de experiência entre os profissionais."
   ]
  },
  {
   "cell_type": "code",
   "execution_count": 31,
   "id": "ebbdc46c-5c8c-4271-b0d4-b8300d9802f2",
   "metadata": {},
   "outputs": [
    {
     "data": {
      "image/png": "[encoded data removed]",
      "text/plain": [
       "<Figure size 600x600 with 1 Axes>"
      ]
     },
     "metadata": {},
     "output_type": "display_data"
    }
   ],
   "source": [
    "# Salários\n",
    "plt.figure(figsize=(6, 6))\n",
    "plt.boxplot(df['Salary'], patch_artist=True, \n",
    "            boxprops=dict(facecolor='blue'),\n",
    "            medianprops=dict(color='orange', linewidth=2))\n",
    "plt.ylabel(\"Salários (em dóla\")\n",
    "plt.xlabel(\"Distribuição de Salários\")\n",
    "plt.yticks(range(40000, 120001, 10000))\n",
    "plt.show()"
   ]
  },
  {
   "cell_type": "markdown",
   "id": "316f9f06-8930-420d-a94e-ee54bcae0cf3",
   "metadata": {},
   "source": [
    "O boxplot apresentado exibe a distribuição dos salários em uma determinada amostra. Observa-se que a mediana salarial gira em torno de 65.000 dólares, indicando que metade dos indivíduos recebe até esse valor. O primeiro quartil (Q1) está próximo de 55.000 dólares por ano, o que significa que 25% das pessoas ganham abaixo desse patamar, enquanto o terceiro quartil (Q3) está em torno de R$ 100.000, revelando que 75% ganham até esse limite. A amplitude interquartil (IQR), que mede a dispersão entre Q1 e Q3, é de aproximadamente R$ 45.000, indicando grande variabilidade nos salários dessa faixa intermediária. Os valores mínimo e máximo, estimados em cerca de R$ 38.000 e R$ 122.000, respectivamente, estão dentro dos limites do boxplot, sugerindo que não há outliers visíveis. "
   ]
  }
 ],
 "metadata": {
  "kernelspec": {
   "display_name": "Python [conda env:base] *",
   "language": "python",
   "name": "conda-base-py"
  },
  "language_info": {
   "codemirror_mode": {
    "name": "ipython",
    "version": 3
   },
   "file_extension": ".py",
   "mimetype": "text/x-python",
   "name": "python",
   "nbconvert_exporter": "python",
   "pygments_lexer": "ipython3",
   "version": "3.12.7"
  }
 },
 "nbformat": 4,
 "nbformat_minor": 5
}
